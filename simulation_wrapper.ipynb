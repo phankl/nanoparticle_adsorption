{
 "cells": [
  {
   "cell_type": "code",
   "execution_count": null,
   "id": "67a2e57e-8406-4a80-8f02-578d217a3a55",
   "metadata": {},
   "outputs": [],
   "source": [
    "import multiprocessing\n",
    "\n",
    "import matplotlib.pyplot as plt\n",
    "import numpy as np\n",
    "\n",
    "import simulation_util"
   ]
  },
  {
   "cell_type": "code",
   "execution_count": null,
   "id": "0d5a18c6-77eb-453c-ab59-cadbb8af3b3a",
   "metadata": {},
   "outputs": [],
   "source": [
    "radius = 10\n",
    "temperature = 1200\n",
    "species = \"Fe\"\n",
    "\n",
    "n_samples = 1000\n",
    "seed = 2023\n",
    "\n",
    "simulation_util.equilibrate_particle(radius, temperature, \"Fe\")\n",
    "atom_positions, atom_velocities = simulation_util.generate_simulation_parameters(\n",
    "    radius, temperature, n_samples, seed\n",
    ")\n",
    "\n",
    "parameter_tuples = [\n",
    "    (atom_positions[i], atom_velocities[i], 0, i) for i in range(n_samples)\n",
    "]"
   ]
  },
  {
   "cell_type": "code",
   "execution_count": null,
   "id": "81da5652-c05b-40f9-ab1b-c4a6b4384edb",
   "metadata": {},
   "outputs": [],
   "source": [
    "with multiprocessing.Pool() as pool:\n",
    "    pool.starmap(simulation_util.simulate_collision, parameter_tuples)"
   ]
  },
  {
   "cell_type": "code",
   "execution_count": null,
   "id": "659eb8f5-ab4c-45de-99cc-ac1ffd5f3266",
   "metadata": {},
   "outputs": [],
   "source": [
    "for i in range(n_samples):\n",
    "    data = np.loadtxt(f\"pe_{i}.dat\")\n",
    "    if data[-1,-1] > -1.0e-3:\n",
    "        print(i)\n",
    "        plt.plot(data[:,0], data[:,1])\n",
    "\n",
    "plt.show()"
   ]
  },
  {
   "cell_type": "code",
   "execution_count": null,
   "id": "587ee8df-89eb-4705-a089-4a0db4685625",
   "metadata": {},
   "outputs": [],
   "source": []
  }
 ],
 "metadata": {
  "kernelspec": {
   "display_name": "Python 3 (ipykernel)",
   "language": "python",
   "name": "python3"
  },
  "language_info": {
   "codemirror_mode": {
    "name": "ipython",
    "version": 3
   },
   "file_extension": ".py",
   "mimetype": "text/x-python",
   "name": "python",
   "nbconvert_exporter": "python",
   "pygments_lexer": "ipython3",
   "version": "3.11.4"
  }
 },
 "nbformat": 4,
 "nbformat_minor": 5
}
